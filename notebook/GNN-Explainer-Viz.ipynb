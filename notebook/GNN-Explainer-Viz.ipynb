{
 "cells": [
  {
   "cell_type": "markdown",
   "metadata": {},
   "source": [
    "# GNN Explainer\n",
    "\n",
    "This notebook is designed to visualize the results of the GNN Explainer."
   ]
  },
  {
   "cell_type": "code",
   "execution_count": null,
   "metadata": {},
   "outputs": [],
   "source": [
    "import numpy as np\n",
    "import os\n",
    "import networkx as nx\n",
    "import matplotlib.pyplot as plt"
   ]
  },
  {
   "cell_type": "code",
   "execution_count": null,
   "metadata": {},
   "outputs": [],
   "source": [
    "logdir = '../log/'\n",
    "expdir = ''\n",
    "node_idx = 350\n",
    "node_idx_new = 156"
   ]
  },
  {
   "cell_type": "code",
   "execution_count": null,
   "metadata": {},
   "outputs": [],
   "source": [
    "dirs = os.listdir(os.path.join(logdir, expdir))\n",
    "dirs"
   ]
  },
  {
   "cell_type": "code",
   "execution_count": null,
   "metadata": {},
   "outputs": [],
   "source": [
    "masks = []\n",
    "# This would print all the files and directories\n",
    "for file in dirs:\n",
    "    if file.split('.')[-1] == 'npy' and f\"explainnode_idx_{node_idx}\" in file:\n",
    "        print(file)\n",
    "        masks.append(file)"
   ]
  },
  {
   "cell_type": "code",
   "execution_count": null,
   "metadata": {},
   "outputs": [],
   "source": [
    "def show_adjacency_full(mask, ax=None):\n",
    "    adj = np.load(os.path.join(logdir, expdir, mask), allow_pickle=True)\n",
    "    if ax is None:\n",
    "        plt.figure()\n",
    "        plt.imshow(adj);\n",
    "    else:\n",
    "        ax.imshow(adj)\n",
    "    return adj"
   ]
  },
  {
   "cell_type": "code",
   "execution_count": null,
   "metadata": {},
   "outputs": [],
   "source": [
    "def filter_adj(adj):\n",
    "    filt_adj = adj.copy()\n",
    "    filt_adj[adj<0.8] = 0\n",
    "    return filt_adj"
   ]
  },
  {
   "cell_type": "code",
   "execution_count": null,
   "metadata": {},
   "outputs": [],
   "source": [
    "for m in masks: \n",
    "\n",
    "    fig, axes = plt.subplots(2, 2, figsize=(10, 10))\n",
    "    ax1, ax2, ax3, ax4 = axes.flatten()\n",
    "    \n",
    "    # Full adjacency\n",
    "    ax1.set_title('Full adjacency mask')\n",
    "    adj = show_adjacency_full(m, ax=ax1)\n",
    "    G = nx.from_numpy_array(adj)\n",
    "    f = filter_adj(adj)\n",
    "    H = nx.from_numpy_array(f)\n",
    "    H.remove_nodes_from(list(nx.isolates(H)))\n",
    "\n",
    "    # Plot graph\n",
    "    ax2.set_title('Graph')\n",
    "    color_map = []\n",
    "    for node in G:\n",
    "        if node == node_idx_new:\n",
    "            color_map.append('red')\n",
    "        elif node in H:\n",
    "            color_map.append('green')\n",
    "        else: \n",
    "            color_map.append('blue')\n",
    "    nx.draw(G, ax=ax2, node_color=color_map, node_size=50)\n",
    "    \n",
    "    # Filtered adjacency\n",
    "    ax3.set_title('Filtered adjacency mask')\n",
    "    ax3.imshow(f)\n",
    "    \n",
    "    # Plot subgraph\n",
    "    ax4.set_title(\"Subgraph\")\n",
    "    color_map = []\n",
    "    for node in H:\n",
    "        if node == node_idx_new:\n",
    "            color_map.append('red')\n",
    "        else: \n",
    "            color_map.append('green')\n",
    "    nx.draw(H, ax=ax4, node_color=color_map)"
   ]
  }
 ],
 "metadata": {
  "kernelspec": {
   "display_name": "Python 3.7.13 ('gnn-model-explainer')",
   "language": "python",
   "name": "python3"
  },
  "language_info": {
   "codemirror_mode": {
    "name": "ipython",
    "version": 3
   },
   "file_extension": ".py",
   "mimetype": "text/x-python",
   "name": "python",
   "nbconvert_exporter": "python",
   "pygments_lexer": "ipython3",
   "version": "3.7.13"
  },
  "vscode": {
   "interpreter": {
    "hash": "803be332546e3bf57850dae1a9dff219445147ae20667940e3bb37855226727c"
   }
  }
 },
 "nbformat": 4,
 "nbformat_minor": 2
}
